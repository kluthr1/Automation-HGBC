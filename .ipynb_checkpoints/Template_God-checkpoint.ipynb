{
 "cells": [
  {
   "cell_type": "code",
   "execution_count": 62,
   "metadata": {
    "scrolled": true
   },
   "outputs": [
    {
     "data": {
      "text/html": [
       "<div>\n",
       "<style scoped>\n",
       "    .dataframe tbody tr th:only-of-type {\n",
       "        vertical-align: middle;\n",
       "    }\n",
       "\n",
       "    .dataframe tbody tr th {\n",
       "        vertical-align: top;\n",
       "    }\n",
       "\n",
       "    .dataframe thead th {\n",
       "        text-align: right;\n",
       "    }\n",
       "</style>\n",
       "<table border=\"1\" class=\"dataframe\">\n",
       "  <thead>\n",
       "    <tr style=\"text-align: right;\">\n",
       "      <th></th>\n",
       "      <th>name</th>\n",
       "      <th>date</th>\n",
       "      <th>location</th>\n",
       "      <th>long</th>\n",
       "      <th>short</th>\n",
       "      <th>image</th>\n",
       "      <th>thumbnail</th>\n",
       "      <th>type2</th>\n",
       "      <th>upcoming</th>\n",
       "      <th>main</th>\n",
       "    </tr>\n",
       "  </thead>\n",
       "  <tbody>\n",
       "    <tr>\n",
       "      <th>0</th>\n",
       "      <td>The Yard Ventures Site Visit</td>\n",
       "      <td>November 26, 2019 @ 5 PM</td>\n",
       "      <td>random address</td>\n",
       "      <td>What Is The Yard Ventures?</td>\n",
       "      <td>asdfasd What Is The Yard Ventures?</td>\n",
       "      <td>2020_03_9-10_Site_Visits/Newpath.png</td>\n",
       "      <td>2020_03_9-10_Site_Visits/Newpath.png</td>\n",
       "      <td>FI</td>\n",
       "      <td>Y</td>\n",
       "      <td>Y</td>\n",
       "    </tr>\n",
       "  </tbody>\n",
       "</table>\n",
       "</div>"
      ],
      "text/plain": [
       "                           name                      date        location  \\\n",
       "0  The Yard Ventures Site Visit  November 26, 2019 @ 5 PM  random address   \n",
       "\n",
       "                         long                               short  \\\n",
       "0  What Is The Yard Ventures?  asdfasd What Is The Yard Ventures?   \n",
       "\n",
       "                                  image                             thumbnail  \\\n",
       "0  2020_03_9-10_Site_Visits/Newpath.png  2020_03_9-10_Site_Visits/Newpath.png   \n",
       "\n",
       "  type2 upcoming main  \n",
       "0    FI        Y    Y  "
      ]
     },
     "execution_count": 62,
     "metadata": {},
     "output_type": "execute_result"
    }
   ],
   "source": [
    "import pandas as pd\n",
    "df = pd.read_excel(\"UpcomingEvents.xlsx\")\n",
    "df.columns = [\"name\",\"date\", \"location\", \"long\", \"short\", \"image\", \"thumbnail\", \"type2\", \"upcoming\", \"main\"]\n",
    "\n",
    "type_d = {\n",
    "    \"FI\":\"finance_investment\",\n",
    "    \"ES\": \"entrepreneurship_series\",\n",
    "    \"JC\":\"journal_club\",\n",
    "    \"VC\":\"venture_capital\"\n",
    "}\n",
    "sub_d = {\n",
    "    \"FI\":0,\n",
    "    \"ES\": 1,\n",
    "    \"JC\":2,\n",
    "    \"VC\":3\n",
    "}\n",
    "upcoming_events = []\n",
    "past_events = []\n",
    "sub_events = [[],[],[],[]]\n",
    "maine = []\n",
    "df"
   ]
  },
  {
   "cell_type": "code",
   "execution_count": 55,
   "metadata": {},
   "outputs": [],
   "source": [
    "from string import Template\n",
    "\n",
    "for index, row in df.iterrows():\n",
    "    d = dict(row)\n",
    "    d[\"type\"] = type_d[d[\"type2\"]]\n",
    "    d[\"tag\"] = (\"_\").join(d[\"name\"].lower().split(\" \"))\n",
    "    if (d[\"upcoming\"].strip()== \"Y\"):\n",
    "        upcoming_events.append(d)\n",
    "    else:\n",
    "        past_events.append(result)\n",
    "    if (d[\"main\"].strip()== \"Y\"):\n",
    "        maine.append(d)\n",
    "    sub_events[sub_d[d[\"type2\"]]].append(d)"
   ]
  },
  {
   "cell_type": "code",
   "execution_count": 56,
   "metadata": {},
   "outputs": [],
   "source": [
    "def create_event(d):\n",
    "    filein = open( 'hgbc_website/html_templates/event_template.txt' )\n",
    "    src = Template( filein.read() )\n",
    "    result = src.substitute(d)\n",
    "    return result\n",
    "def create_short(d):\n",
    "    filein = open( 'hgbc_website/html_templates/small_event.txt' )\n",
    "    src = Template( filein.read() )\n",
    "    result = src.substitute(d)\n",
    "    return result\n",
    "def create_long(d):\n",
    "    filein = open( 'hgbc_website/html_templates/long_event.txt' )\n",
    "    src = Template( filein.read() )\n",
    "    result = src.substitute(d)\n",
    "    return result\n",
    "def create_main(d):\n",
    "    filein = open( 'hgbc_website/html_templates/main_temp.txt' )\n",
    "    src = Template( filein.read() )\n",
    "    result = src.substitute(d)\n",
    "    return result"
   ]
  },
  {
   "cell_type": "code",
   "execution_count": 60,
   "metadata": {},
   "outputs": [
    {
     "name": "stdout",
     "output_type": "stream",
     "text": [
      "FI\n",
      "ES\n",
      "JC\n",
      "VC\n"
     ]
    }
   ],
   "source": [
    "def typed_event(sub_type):\n",
    "    fill_d = {\n",
    "        \"all_events\" : \"\",\n",
    "        \"small_events\" : \"\",\n",
    "        \"full_events\" : \"\"\n",
    "    }\n",
    "    for x in sub_events[sub_d[sub_type]]:\n",
    "        fill_d[\"all_events\"] = fill_d[\"all_events\"] + create_event(x)\n",
    "        fill_d[\"small_events\"] = fill_d[\"small_events\"] + create_short(x)\n",
    "        fill_d[\"full_events\"] = fill_d[\"full_events\"] + create_long(x)\n",
    "    filein = open( 'hgbc_website/html_templates/' + type_d[sub_type]+'.html' )\n",
    "    src = Template( filein.read() )\n",
    "    result = src.substitute(fill_d)\n",
    "    text_file = open('hgbc_website/pages/' + type_d[sub_type]+'.html', \"w+\")\n",
    "    text_file.write(result)\n",
    "    text_file.close()\n",
    "    filein = open( 'hgbc_website/html_templates/' + type_d[sub_type]+'_events.html' )\n",
    "    src = Template( filein.read() )\n",
    "    result = src.substitute(fill_d)\n",
    "    text_file = open('hgbc_website/pages/' + type_d[sub_type]+'_events.html', \"w+\")\n",
    "    text_file.write(result)\n",
    "    text_file.close()\n",
    "for x in type_d:\n",
    "    print (x)\n",
    "    typed_event(x)"
   ]
  },
  {
   "cell_type": "code",
   "execution_count": 61,
   "metadata": {},
   "outputs": [],
   "source": [
    "def upcoming():\n",
    "    fill_d = {\n",
    "        \"all_events\" : \"\",\n",
    "        \"small_events\" : \"\",\n",
    "        \"full_events\" : \"\"\n",
    "    }\n",
    "    for x in upcoming_events:\n",
    "        fill_d[\"all_events\"] = fill_d[\"all_events\"] + create_event(x)\n",
    "        #fill_d[\"small_events\"] = fill_d[\"small_events\"] + create_short(x)\n",
    "        #fill_d[\"full_events\"] = fill_d[\"full_events\"] + create_long(x)\n",
    "    filein = open( 'hgbc_website/html_templates/upcoming_events.html' )\n",
    "    src = Template( filein.read() )\n",
    "    result = src.substitute(fill_d)\n",
    "    text_file = open('hgbc_website/pages/upcoming_events.html', \"w+\")\n",
    "    text_file.write(result)\n",
    "    text_file.close()\n",
    "    fill_d = {\n",
    "        \"all_events\" : \"\",\n",
    "        \"small_events\" : \"\",\n",
    "        \"full_events\" : \"\"\n",
    "    }\n",
    "    for x in past_events:\n",
    "        fill_d[\"all_events\"] = fill_d[\"all_events\"] + create_event(x)\n",
    "        #fill_d[\"small_events\"] = fill_d[\"small_events\"] + create_short(x)\n",
    "        #fill_d[\"full_events\"] = fill_d[\"full_events\"] + create_long(x)\n",
    "    filein = open( 'hgbc_website/html_templates/past_events.html' )\n",
    "    src = Template( filein.read() )\n",
    "    result = src.substitute(fill_d)\n",
    "    text_file = open('hgbc_website/pages/past_events.html', \"w+\")\n",
    "    text_file.write(result)\n",
    "    text_file.close()\n",
    "upcoming()\n",
    "\n",
    "def set_main():\n",
    "    fill_d = {\n",
    "        \"all_events\" : \"\",\n",
    "        \"small_events\" : \"\",\n",
    "        \"full_events\" : \"\"\n",
    "    }\n",
    "    for x in maine:\n",
    "        fill_d[\"all_events\"] = fill_d[\"all_events\"] + create_main(x)\n",
    "        #fill_d[\"small_events\"] = fill_d[\"small_events\"] + create_short(x)\n",
    "        #fill_d[\"full_events\"] = fill_d[\"full_events\"] + create_long(x)\n",
    "    filein = open( 'hgbc_website/html_templates/index.html' )\n",
    "    src = Template( filein.read() )\n",
    "    result = src.substitute(fill_d)\n",
    "    text_file = open('hgbc_website/pages/index.html', \"w+\")\n",
    "    text_file.write(result)\n",
    "    text_file.close()"
   ]
  },
  {
   "cell_type": "code",
   "execution_count": 51,
   "metadata": {},
   "outputs": [
    {
     "ename": "IndentationError",
     "evalue": "unindent does not match any outer indentation level (<tokenize>, line 15)",
     "output_type": "error",
     "traceback": [
      "\u001b[0;36m  File \u001b[0;32m\"<tokenize>\"\u001b[0;36m, line \u001b[0;32m15\u001b[0m\n\u001b[0;31m    </div>\u001b[0m\n\u001b[0m    ^\u001b[0m\n\u001b[0;31mIndentationError\u001b[0m\u001b[0;31m:\u001b[0m unindent does not match any outer indentation level\n"
     ]
    }
   ],
   "source": [
    "  <div class=\"col-md-4 ftco-animate\">\n",
    "                            <div class=\"blog-entry\">\n",
    "                                <a href=\"./${type}.html#${tag}\" class=\"block-20\" style=\"background-image: url('../my_images/event_imgs/${thumbnail}');\">\n",
    "                                </a>\n",
    "                                <div class=\"text pt-1 pb-2\">\n",
    "                                    <div class=\"meta\">\n",
    "                                        <div>${date}</div>\n",
    "                                        <div>${location}</div>\n",
    "                                    </div>\n",
    "                                    <h3 class=\"heading\"><a href=\"./${type}.html#${tag}}\">${name}</a></h3>\n",
    "                                    <p class=\"clearfix\">\n",
    "                                        <a href=\"./${type}.html#${tag}\" class=\"float-left read\">${short}</a> </p>\n",
    "                                </div>\n",
    "                            </div>\n",
    "                    </div>"
   ]
  },
  {
   "cell_type": "code",
   "execution_count": null,
   "metadata": {},
   "outputs": [],
   "source": []
  }
 ],
 "metadata": {
  "kernelspec": {
   "display_name": "Python 3",
   "language": "python",
   "name": "python3"
  },
  "language_info": {
   "codemirror_mode": {
    "name": "ipython",
    "version": 3
   },
   "file_extension": ".py",
   "mimetype": "text/x-python",
   "name": "python",
   "nbconvert_exporter": "python",
   "pygments_lexer": "ipython3",
   "version": "3.7.3"
  }
 },
 "nbformat": 4,
 "nbformat_minor": 2
}
